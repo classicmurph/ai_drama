{
 "cells": [
  {
   "cell_type": "markdown",
   "metadata": {
    "slideshow": {
     "slide_type": "slide"
    }
   },
   "source": [
    "# Music Production, Machine Learning, (And a very small part of their intersection.)"
   ]
  },
  {
   "cell_type": "markdown",
   "metadata": {
    "slideshow": {
     "slide_type": "slide"
    }
   },
   "source": [
    "## Continuous vs Discrete\n",
    "\n",
    "A very important distinction we'll have to make for the rest of the talk to make sense."
   ]
  },
  {
   "cell_type": "markdown",
   "metadata": {
    "collapsed": false,
    "slideshow": {
     "slide_type": "slide"
    }
   },
   "source": [
    "## Analog Computers vs Digital Computers"
   ]
  },
  {
   "cell_type": "markdown",
   "metadata": {
    "slideshow": {
     "slide_type": "subslide"
    }
   },
   "source": [
    "The computers we use every day are digital, meaning that at the most basic level, everything's represented as `1`'s and `0`'s. This is a very boring thing that you hear 100 times before you're 15 years old."
   ]
  },
  {
   "cell_type": "markdown",
   "metadata": {
    "slideshow": {
     "slide_type": "fragment"
    }
   },
   "source": [
    "Digital does not necessarily have to mean binary! DNA is digital, and it has four bases. Also, all of the machine code can also be looked at in hexadecimal, which has 16 distinct characters!"
   ]
  },
  {
   "cell_type": "code",
   "execution_count": 2,
   "metadata": {
    "collapsed": false,
    "slideshow": {
     "slide_type": "fragment"
    }
   },
   "outputs": [
    {
     "data": {
      "text/plain": [
       "76"
      ]
     },
     "execution_count": 2,
     "metadata": {},
     "output_type": "execute_result"
    }
   ],
   "source": [
    "ord(\"L\")"
   ]
  },
  {
   "cell_type": "code",
   "execution_count": 3,
   "metadata": {
    "collapsed": false,
    "slideshow": {
     "slide_type": "fragment"
    }
   },
   "outputs": [
    {
     "data": {
      "text/plain": [
       "'0b1001100'"
      ]
     },
     "execution_count": 3,
     "metadata": {},
     "output_type": "execute_result"
    }
   ],
   "source": [
    "bin(ord(\"L\"))"
   ]
  },
  {
   "cell_type": "code",
   "execution_count": 4,
   "metadata": {
    "collapsed": false
   },
   "outputs": [
    {
     "data": {
      "text/plain": [
       "0.111123"
      ]
     },
     "execution_count": 4,
     "metadata": {},
     "output_type": "execute_result"
    }
   ],
   "source": [
    "0.111123"
   ]
  },
  {
   "cell_type": "markdown",
   "metadata": {
    "slideshow": {
     "slide_type": "subslide"
    }
   },
   "source": [
    "But we also have floats!\n",
    "\n",
    "We can talk about numbers like 2.22222134!"
   ]
  },
  {
   "cell_type": "markdown",
   "metadata": {
    "slideshow": {
     "slide_type": "subslide"
    }
   },
   "source": [
    "An interlude about Zeno's paradox."
   ]
  },
  {
   "cell_type": "markdown",
   "metadata": {
    "slideshow": {
     "slide_type": "subslide"
    }
   },
   "source": [
    "As opposed to digital computers, analog computers use continuous things to do computation. Voltages, hydraulic pressure, and physical distances all count."
   ]
  },
  {
   "cell_type": "markdown",
   "metadata": {
    "slideshow": {
     "slide_type": "subslide"
    }
   },
   "source": [
    "If you want to find the middle of a board, you can measure it with a ruler, divide the measurement by two, and then measure to the middle. Or you can stretch a piece of string along it, touch both ends of the string together, and get a continuous result for the middle of the board that way."
   ]
  },
  {
   "cell_type": "markdown",
   "metadata": {
    "slideshow": {
     "slide_type": "slide"
    }
   },
   "source": [
    "### The MONIAC\n",
    "An analog simulation of the macroeconomy where the flow of water represented the flow of money.\n",
    "\n",
    "<img src=\"https://upload.wikimedia.org/wikipedia/commons/2/2d/MONIAC.jpg\" style=\"width: 50%; height: 50%\">"
   ]
  },
  {
   "cell_type": "markdown",
   "metadata": {
    "slideshow": {
     "slide_type": "slide"
    }
   },
   "source": [
    "### Why don't we use analog computers for everything?\n",
    "\n",
    "\"Analog computers are so cool!\", you say. \"Surely they must be superior to digital computers in so many things!\""
   ]
  },
  {
   "cell_type": "markdown",
   "metadata": {
    "slideshow": {
     "slide_type": "subslide"
    }
   },
   "source": [
    "Yeah, they're cool, but:\n",
    "\n",
    "Anything we can do with an analog computer, we can do with a digital computer."
   ]
  },
  {
   "cell_type": "markdown",
   "metadata": {
    "slideshow": {
     "slide_type": "slide"
    }
   },
   "source": [
    "## Simulation\n",
    "Is a lot of things, but includes everything you can model with analog computers. (Quantum stuff is a little time-consuming, but that's why we're interested in quantum computers. Material for a completely different talk.)"
   ]
  },
  {
   "cell_type": "markdown",
   "metadata": {
    "slideshow": {
     "slide_type": "subslide"
    }
   },
   "source": [
    "<a href=\"https://benedikt-bitterli.me/tantalum/tantalum.html\">Tantalum</a> simulates light propagation. We gotta click on this."
   ]
  },
  {
   "cell_type": "markdown",
   "metadata": {
    "slideshow": {
     "slide_type": "subslide"
    }
   },
   "source": [
    "And one of my favorites from SMBC:\n",
    "\n",
    "<center><img src=\"http://www.smbc-comics.com/comics/20130719.png\" style=\"width: 50%; height: 50%, \"></center>"
   ]
  },
  {
   "cell_type": "markdown",
   "metadata": {
    "slideshow": {
     "slide_type": "slide"
    }
   },
   "source": [
    "## Continuous and Discrete Approaches to Sound\n",
    "\n",
    "A sound wave is continuous, but digital audio chops it up into samples."
   ]
  },
  {
   "cell_type": "markdown",
   "metadata": {
    "slideshow": {
     "slide_type": "fragment"
    }
   },
   "source": [
    "<center><img src=\"https://upload.wikimedia.org/wikipedia/commons/2/21/4-bit-linear-PCM.svg\"></center>"
   ]
  },
  {
   "cell_type": "markdown",
   "metadata": {
    "slideshow": {
     "slide_type": "subslide"
    }
   },
   "source": [
    "<center><img src=\"https://upload.wikimedia.org/wikipedia/commons/b/b1/2-bit_resolution_analog_comparison.png\"></center>"
   ]
  },
  {
   "cell_type": "markdown",
   "metadata": {
    "slideshow": {
     "slide_type": "subslide"
    }
   },
   "source": [
    "<img src=\"https://upload.wikimedia.org/wikipedia/commons/thumb/b/b7/3-bit_resolution_analog_comparison.png/714px-3-bit_resolution_analog_comparison.png\">"
   ]
  },
  {
   "cell_type": "markdown",
   "metadata": {
    "slideshow": {
     "slide_type": "slide"
    }
   },
   "source": [
    "## Synthesis"
   ]
  },
  {
   "cell_type": "markdown",
   "metadata": {
    "slideshow": {
     "slide_type": "fragment"
    }
   },
   "source": [
    "A very fancy name for making sound."
   ]
  },
  {
   "cell_type": "markdown",
   "metadata": {
    "slideshow": {
     "slide_type": "slide"
    }
   },
   "source": [
    "<center><img src=\"https://upload.wikimedia.org/wikipedia/commons/e/e6/Moog_Modular_55_img2.jpg\"></center>"
   ]
  },
  {
   "cell_type": "markdown",
   "metadata": {
    "slideshow": {
     "slide_type": "subslide"
    }
   },
   "source": [
    "### Analog vs Digital Synthesizers\n",
    "\n",
    "Analog synthesizers use circuits to manipulate voltage variations that we then turn into sound waves.\n",
    "\n",
    "Digital synthesizers do the whole thing through simulating the same sort of stuff."
   ]
  },
  {
   "cell_type": "markdown",
   "metadata": {
    "slideshow": {
     "slide_type": "subslide"
    }
   },
   "source": [
    "How do we bridge the gap?\n",
    "\n",
    "Well, this computer can actually steer this synthesizer. How?"
   ]
  },
  {
   "cell_type": "markdown",
   "metadata": {
    "slideshow": {
     "slide_type": "fragment"
    }
   },
   "source": [
    "MIDI, a glorious protocol."
   ]
  },
  {
   "cell_type": "markdown",
   "metadata": {
    "slideshow": {
     "slide_type": "slide"
    }
   },
   "source": [
    "## Machine Learning"
   ]
  },
  {
   "cell_type": "markdown",
   "metadata": {
    "slideshow": {
     "slide_type": "subslide"
    }
   },
   "source": [
    "Instead of telling computers exactly how to do something, can we tell it how to figure out how to do something and have it do the actual work of figuring it out?"
   ]
  },
  {
   "cell_type": "markdown",
   "metadata": {
    "slideshow": {
     "slide_type": "subslide"
    }
   },
   "source": [
    "What sorts of thing?\n",
    "* Classifing things (Is this a picture of a dog or a picture of a cat?)\n",
    "* Making choices (What move should I make next in this chess game ?)"
   ]
  },
  {
   "cell_type": "markdown",
   "metadata": {
    "slideshow": {
     "slide_type": "subslide"
    }
   },
   "source": [
    "But how do we go from classifying things to making new things?!"
   ]
  },
  {
   "cell_type": "markdown",
   "metadata": {
    "slideshow": {
     "slide_type": "subslide"
    }
   },
   "source": [
    "<img src=\"https://1.bp.blogspot.com/-CdUrPm7x5Ig/VZQIGjJzP0I/AAAAAAAAAnI/qhqchfzdaOc/s640/image00.jpg\">"
   ]
  },
  {
   "cell_type": "markdown",
   "metadata": {
    "slideshow": {
     "slide_type": "slide"
    }
   },
   "source": [
    "### Neural Nets and Deep Learning"
   ]
  },
  {
   "cell_type": "markdown",
   "metadata": {
    "slideshow": {
     "slide_type": "subslide"
    }
   },
   "source": [
    "What the heck are neural nets?"
   ]
  },
  {
   "cell_type": "markdown",
   "metadata": {
    "slideshow": {
     "slide_type": "subslide"
    }
   },
   "source": [
    "<img src=\"http://neuralnetworksanddeeplearning.com/images/tikz11.png\">"
   ]
  },
  {
   "cell_type": "markdown",
   "metadata": {
    "slideshow": {
     "slide_type": "subslide"
    }
   },
   "source": [
    "What the heck are recurrent neural nets?"
   ]
  },
  {
   "cell_type": "markdown",
   "metadata": {
    "slideshow": {
     "slide_type": "fragment"
    }
   },
   "source": [
    "Uh, kinda like feedforward neural nets, but with loops back in time."
   ]
  },
  {
   "cell_type": "markdown",
   "metadata": {
    "slideshow": {
     "slide_type": "slide"
    }
   },
   "source": [
    "#### Our problem\n",
    "\n",
    "Notation is boring by itself, but sound is hard."
   ]
  },
  {
   "cell_type": "markdown",
   "metadata": {
    "slideshow": {
     "slide_type": "subslide"
    }
   },
   "source": [
    "What are our options for using this to teach a computer to create music?\n",
    "\n",
    "* We could do Notation <=> Notation\n",
    "* Notation => Sound ? \n",
    "    * No, we already have one of those!\n",
    "* Sound <=> Sound \n",
    "    * Very cool, but very hard. Takes a ton of data.\n",
    "* Sound => Notation?\n",
    "    * Pretty cool, but also takes a lot of matched data."
   ]
  },
  {
   "cell_type": "markdown",
   "metadata": {
    "slideshow": {
     "slide_type": "slide"
    }
   },
   "source": [
    "SO, let's try this a little bit with notation to notation! Where do we have enough data to try this out? I have bad news...."
   ]
  },
  {
   "cell_type": "markdown",
   "metadata": {
    "slideshow": {
     "slide_type": "fragment"
    }
   },
   "source": [
    "Our great machine learning corpus is all Irish folk tunes."
   ]
  },
  {
   "cell_type": "markdown",
   "metadata": {
    "slideshow": {
     "slide_type": "slide"
    }
   },
   "source": [
    "### That's extremely disappointing, Gordon. I feel let down."
   ]
  },
  {
   "cell_type": "markdown",
   "metadata": {
    "slideshow": {
     "slide_type": "fragment"
    }
   },
   "source": [
    "Don't worry! It turns out that this resolves itself in a way that's actually really satisfying..."
   ]
  },
  {
   "cell_type": "markdown",
   "metadata": {
    "slideshow": {
     "slide_type": "fragment"
    }
   },
   "source": [
    "We can make music much better by programming than I apparently can with neural nets."
   ]
  },
  {
   "cell_type": "markdown",
   "metadata": {
    "slideshow": {
     "slide_type": "subslide"
    }
   },
   "source": [
    "Introducing Sonic Pi!"
   ]
  },
  {
   "cell_type": "markdown",
   "metadata": {
    "slideshow": {
     "slide_type": "slide"
    }
   },
   "source": [
    "## Take-Aways"
   ]
  },
  {
   "cell_type": "markdown",
   "metadata": {
    "slideshow": {
     "slide_type": "fragment"
    }
   },
   "source": [
    "* Machine learning is reeeeeealllllly hard. Mostly because it takes forever and requires more hardware than you can buy."
   ]
  },
  {
   "cell_type": "markdown",
   "metadata": {
    "slideshow": {
     "slide_type": "fragment"
    }
   },
   "source": [
    "* Making music, on the other hand, is fun, and can be cheap or free."
   ]
  },
  {
   "cell_type": "markdown",
   "metadata": {
    "slideshow": {
     "slide_type": "slide"
    }
   },
   "source": [
    "## Recommendations\n",
    "* **I Dream of Wires** (available on Netflix) - Covers the history of synthesizers from invention to the present day.\n",
    "* **Neural Networks and Deep Learning** (http://neuralnetworksanddeeplearning.com/) by Michael Nielson - free, online textbook\n",
    "* **The Unreasonable Effectiveness of Recurrent Neural Networks** (http://karpathy.github.io/2015/05/21/rnn-effectiveness/) by Andrej Karpathy - Uses character-based recurrent neural networks to do all sorts of interesting things\n",
    "* **Sonic Pi** (http://sonic-pi.net/) by Sam Aaron - incredibly fun live-coding synthesizer, essentially a Ruby layer over the much more intimidating Supercollider\n",
    "* **Introduction to Music Production** (https://www.coursera.org/learn/music-production) with Loudon Stearns - great introductory course on Coursera\n",
    "* **Sébastien Rannou's Aerodynamic Guide** (https://aimxhaisse.com/aerodynamic-en.html) - Walks you through reverse-engineering Aerodynamic by Daft Punk"
   ]
  },
  {
   "cell_type": "markdown",
   "metadata": {
    "slideshow": {
     "slide_type": "slide"
    }
   },
   "source": [
    "#### Attributions\n",
    "\n",
    "* Sound wave sampling https://en.wikipedia.org/wiki/File:4-bit-linear-PCM.svg Creative Commons\n",
    "* File:2-bit resolution analog comparison.png https://en.wikipedia.org/wiki/File:2-bit_resolution_analog_comparison.png Creative Commons\n",
    "* https://en.wikipedia.org/wiki/File:3-bit_resolution_analog_comparison.png Creative Commons\n",
    "* Moniac https://commons.wikimedia.org/wiki/File:MONIAC.jpg Public domain\n",
    "* Saturday Morning Breakfast Cereal http://www.smbc-comics.com/?id=3054 Fair Use, go read all of it.\n",
    "* Aerodynamic in the Sonic Pi by Sébastien Rannou https://aimxhaisse.com/aerodynamic-en.html\n",
    "* Neural net diagram from Michael Nielson's Neural Networks and Deep Learning, ch. 1 http://neuralnetworksanddeeplearning.com/chap1.html"
   ]
  }
 ],
 "metadata": {
  "celltoolbar": "Slideshow",
  "kernelspec": {
   "display_name": "Python 3",
   "language": "python",
   "name": "python3"
  },
  "language_info": {
   "codemirror_mode": {
    "name": "ipython",
    "version": 3
   },
   "file_extension": ".py",
   "mimetype": "text/x-python",
   "name": "python",
   "nbconvert_exporter": "python",
   "pygments_lexer": "ipython3",
   "version": "3.5.0"
  }
 },
 "nbformat": 4,
 "nbformat_minor": 0
}
